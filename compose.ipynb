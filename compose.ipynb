{
 "cells": [
  {
   "cell_type": "code",
   "execution_count": 33,
   "metadata": {},
   "outputs": [],
   "source": [
    "from pycomposer.gancomposable._torch.conditional_gan_composer import ConditionalGANComposer\n",
    "import torch\n",
    "from logging import getLogger, StreamHandler, NullHandler, DEBUG, ERROR\n",
    "import matplotlib.pyplot as plt\n",
    "import seaborn as sns\n",
    "import librosa"
   ]
  },
  {
   "cell_type": "code",
   "execution_count": 34,
   "metadata": {},
   "outputs": [],
   "source": [
    "# wav to midi conversion\n",
    "def audio_to_midi(file, out='generated'):\n",
    "    predict_and_save(file, out, 'audio.mid',)\n",
    "\n"
   ]
  },
  {
   "cell_type": "code",
   "execution_count": 35,
   "metadata": {},
   "outputs": [],
   "source": [
    "logger = getLogger(\"pygan\")\n",
    "handler = StreamHandler()\n",
    "handler.setLevel(DEBUG)\n",
    "logger.setLevel(DEBUG)\n",
    "logger.addHandler(handler)\n",
    "plt.style.use(\"fivethirtyeight\")"
   ]
  },
  {
   "cell_type": "code",
   "execution_count": 36,
   "metadata": {},
   "outputs": [],
   "source": [
    "gan_composer = ConditionalGANComposer(\n",
    "    # `list` of Midi files to learn.\n",
    "    midi_path_list=[\n",
    "        'audio.mid'\n",
    "    ], \n",
    "    # Batch size.\n",
    "    batch_size=20,\n",
    "    # The length of sequence that LSTM networks will observe.\n",
    "    seq_len=8,\n",
    "    # Learning rate in `Generator` and `Discriminator`.\n",
    "    learning_rate=1e-10,\n",
    "    # Time fraction or time resolution (seconds).\n",
    "    time_fraction=0.5,\n",
    ")"
   ]
  },
  {
   "cell_type": "code",
   "execution_count": 37,
   "metadata": {},
   "outputs": [],
   "source": [
    "gan_composer.learn(\n",
    "    # The number of training iterations.\n",
    "    iter_n=50, \n",
    "    # The number of learning of the `discriminator`.\n",
    "    k_step=10\n",
    ")"
   ]
  },
  {
   "cell_type": "code",
   "execution_count": 38,
   "metadata": {},
   "outputs": [],
   "source": [
    "gan_composer.compose(\n",
    "    # Path to generated MIDI file.\n",
    "    file_path=\"generated.mid\", \n",
    "    # Mean of velocity.\n",
    "    # This class samples the velocity from a Gaussian distribution of \n",
    "    # `velocity_mean` and `velocity_std`.\n",
    "    # If `None`, the average velocity in MIDI files set to this parameter.\n",
    "    velocity_mean=None,\n",
    "    # Standard deviation(SD) of velocity.\n",
    "    # This class samples the velocity from a Gaussian distribution of \n",
    "    # `velocity_mean` and `velocity_std`.\n",
    "    # If `None`, the SD of velocity in MIDI files set to this parameter.\n",
    "    velocity_std=None\n",
    ")"
   ]
  },
  {
   "cell_type": "code",
   "execution_count": null,
   "metadata": {},
   "outputs": [],
   "source": []
  }
 ],
 "metadata": {
  "kernelspec": {
   "display_name": "py37",
   "language": "python",
   "name": "python3"
  },
  "language_info": {
   "codemirror_mode": {
    "name": "ipython",
    "version": 3
   },
   "file_extension": ".py",
   "mimetype": "text/x-python",
   "name": "python",
   "nbconvert_exporter": "python",
   "pygments_lexer": "ipython3",
   "version": "3.7.12"
  },
  "orig_nbformat": 4
 },
 "nbformat": 4,
 "nbformat_minor": 2
}
